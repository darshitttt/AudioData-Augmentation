{
 "cells": [
  {
   "cell_type": "code",
   "execution_count": 13,
   "metadata": {},
   "outputs": [],
   "source": [
    "import os\n",
    "import random\n",
    "import silero\n",
    "from scipy.signal import convolve\n",
    "import numpy as np\n",
    "import pandas as pd\n",
    "import librosa\n",
    "from glob import glob\n",
    "from IPython.display import display, Audio\n",
    "import math\n",
    "\n",
    "SAMPLE_RATE = 16000\n",
    "RIR_files = os.listdir('RIR/')[1:]\n",
    "BG_files = os.listdir('Bg_sound')"
   ]
  },
  {
   "cell_type": "code",
   "execution_count": 14,
   "metadata": {},
   "outputs": [],
   "source": [
    "def get_audio_list(directory):\n",
    "    return [os.path.join(directory, file) for file in os.listdir(directory)]\n",
    "\n",
    "def get_org_audfname(aud_dir, fname):\n",
    "    return os.path.join(aud_dir, fname.split('/')[-1][2:])\n",
    "\n",
    "def get_context_label(fname):\n",
    "    return (int)(fname.split('/')[-1][0])\n",
    "\n",
    "def normalise_npArray(arr):\n",
    "    arr = (arr - min(arr))/(max(arr) - min(arr))\n",
    "    return arr\n",
    "\n",
    "def get_convolved_audio(aud_dir, filename):\n",
    "    \n",
    "    label = get_context_label(filename)\n",
    "    org_audio_fname = get_org_audfname(aud_dir, filename)\n",
    "    rir_fname = os.path.join('RIR/', RIR_files[label])\n",
    "    \n",
    "    org_wav, sr = librosa.load(org_audio_fname, sr=SAMPLE_RATE)\n",
    "    #org_wav = normalise_npArray(org_wav)\n",
    "    rir_wav, sr = librosa.load(rir_fname, sr=SAMPLE_RATE)\n",
    "    #rir_wav = normalise_npArray(rir_wav)\n",
    "\n",
    "    convolved_audio = convolve(org_wav, rir_wav)[0:org_wav.shape[0]]\n",
    "    #convolved_audio = normalise_npArray(convolved_audio)\n",
    "    return convolved_audio\n",
    "\n",
    "def get_noise_from_sound(signal,noise,SNR):\n",
    "    \n",
    "    RMS_s=math.sqrt(np.mean(signal**2))\n",
    "    #required RMS of noise\n",
    "    RMS_n=math.sqrt(RMS_s**2/(pow(10,SNR/10)))\n",
    "    \n",
    "    #current RMS of noise\n",
    "    RMS_n_current=math.sqrt(np.mean(noise**2))\n",
    "    if RMS_n_current == 0:\n",
    "        RMS_n_current = 1\n",
    "    noise=noise*(RMS_n/RMS_n_current)\n",
    "    \n",
    "    return noise\n",
    "\n",
    "def add_noise(audio, noise):\n",
    "\n",
    "    SNR_list = [0, 5, 10, 15, 20]\n",
    "    SNR_choice = random.choice(SNR_list)\n",
    "    #print(SNR_choice)\n",
    "    noise = get_noise_from_sound(audio, noise[0:audio.shape[0]], SNR_choice)\n",
    "    noise = normalise_npArray(noise)\n",
    "    noisy_audio = audio + noise\n",
    "    return noisy_audio\n",
    "\n",
    "def get_noisy_audio(aud_dir, aud_fname):\n",
    "    label = get_context_label(aud_fname)\n",
    "\n",
    "    convolved_audio = get_convolved_audio(aud_dir, aud_fname)\n",
    "    bg_file = os.path.join('Bg_sound/', BG_files[2-label])\n",
    "    bg_wav, sr = librosa.load(bg_file, sr=SAMPLE_RATE)\n",
    "    noisy_audio = add_noise(convolved_audio, bg_wav)\n",
    "    #noisy_audio = normalise_npArray(noisy_audio)\n",
    "\n",
    "    return noisy_audio"
   ]
  },
  {
   "cell_type": "code",
   "execution_count": 5,
   "metadata": {},
   "outputs": [
    {
     "data": {
      "text/plain": [
       "(0,\n",
       " '../../LibriVox_Kaggle/achtgesichterambiwasse/n1n2/0_achtgesichterambiwasse_0002.wav',\n",
       " '../../LibriVox_Kaggle/achtgesichterambiwasse/achtgesichterambiwasse_0002.wav')"
      ]
     },
     "execution_count": 5,
     "metadata": {},
     "output_type": "execute_result"
    }
   ],
   "source": [
    "aud_dir = '../../LibriVox_Kaggle/achtgesichterambiwasse/'\n",
    "aud_list = get_audio_list(r'../../LibriVox_Kaggle/achtgesichterambiwasse/n1n2/')\n",
    "aud_list.sort()\n",
    "aud_list.pop()\n",
    "get_context_label(aud_list[1]), aud_list[1], get_org_audfname(aud_dir, aud_list[1])"
   ]
  },
  {
   "cell_type": "code",
   "execution_count": 11,
   "metadata": {},
   "outputs": [],
   "source": [
    "import torch\n",
    "import torchaudio\n",
    "\n",
    "model, decoder, utils = silero.silero_stt(language='de', version='latest', jit_model='jit')\n",
    "\n",
    "(read_batch, split_into_batches,\n",
    " read_audio, prepare_model_input) = utils\n",
    "device = torch.device('cuda:0')\n",
    "model = model.to(device)\n",
    "\n",
    "def sileromodel(file):\n",
    "\n",
    "    test_files = glob(file)\n",
    "    batches = split_into_batches(test_files, batch_size=10)\n",
    "    input = prepare_model_input(read_batch(batches[0]),\n",
    "                            device=device)\n",
    "\n",
    "    output = model(input)\n",
    "    output = output.cpu()\n",
    "\n",
    "    for example in output:\n",
    "        out = decoder(example.cpu())\n",
    "\n",
    "    #print(out)\n",
    "\n",
    "    return out"
   ]
  },
  {
   "cell_type": "code",
   "execution_count": 10,
   "metadata": {},
   "outputs": [
    {
     "name": "stdout",
     "output_type": "stream",
     "text": [
      "und zeichnete nachher die roten korallenäste des feuerflackerns\n"
     ]
    },
    {
     "name": "stderr",
     "output_type": "stream",
     "text": [
      "/work/dpandya/miniconda3/envs/irsolve/lib/python3.10/site-packages/torch/nn/modules/module.py:1194: UserWarning: stft will soon require the return_complex parameter be given for real inputs, and will further require that return_complex=True in a future PyTorch release. (Triggered internally at ../aten/src/ATen/native/SpectralOps.cpp:801.)\n",
      "  return forward_call(*input, **kwargs)\n"
     ]
    },
    {
     "data": {
      "text/plain": [
       "'und zeichnete nachher die roten korallenäste des feuerflackerns'"
      ]
     },
     "execution_count": 10,
     "metadata": {},
     "output_type": "execute_result"
    }
   ],
   "source": [
    "aud_file = random.choice(aud_list)\n",
    "\n",
    "sileromodel(aud_file)"
   ]
  },
  {
   "cell_type": "code",
   "execution_count": 15,
   "metadata": {},
   "outputs": [
    {
     "ename": "ValueError",
     "evalue": "The truth value of an array with more than one element is ambiguous. Use a.any() or a.all()",
     "output_type": "error",
     "traceback": [
      "\u001b[0;31m---------------------------------------------------------------------------\u001b[0m",
      "\u001b[0;31mValueError\u001b[0m                                Traceback (most recent call last)",
      "\u001b[1;32m/work/dpandya/giggityGit/AudioData-Augmentation/silero_preds.ipynb Cell 6\u001b[0m line \u001b[0;36m5\n\u001b[1;32m      <a href='vscode-notebook-cell://ssh-remote%2Bdws-06.informatik.uni-mannheim.de/work/dpandya/giggityGit/AudioData-Augmentation/silero_preds.ipynb#W5sdnNjb2RlLXJlbW90ZQ%3D%3D?line=2'>3</a>\u001b[0m \u001b[39mfor\u001b[39;00m i \u001b[39min\u001b[39;00m \u001b[39mrange\u001b[39m(\u001b[39m0\u001b[39m, \u001b[39mlen\u001b[39m(aud_list)):\n\u001b[1;32m      <a href='vscode-notebook-cell://ssh-remote%2Bdws-06.informatik.uni-mannheim.de/work/dpandya/giggityGit/AudioData-Augmentation/silero_preds.ipynb#W5sdnNjb2RlLXJlbW90ZQ%3D%3D?line=3'>4</a>\u001b[0m     noisy_audio \u001b[39m=\u001b[39m get_noisy_audio(aud_dir, aud_list[i])\n\u001b[0;32m----> <a href='vscode-notebook-cell://ssh-remote%2Bdws-06.informatik.uni-mannheim.de/work/dpandya/giggityGit/AudioData-Augmentation/silero_preds.ipynb#W5sdnNjb2RlLXJlbW90ZQ%3D%3D?line=4'>5</a>\u001b[0m     silero_preds\u001b[39m.\u001b[39mappend(sileromodel(noisy_audio))\n\u001b[1;32m      <a href='vscode-notebook-cell://ssh-remote%2Bdws-06.informatik.uni-mannheim.de/work/dpandya/giggityGit/AudioData-Augmentation/silero_preds.ipynb#W5sdnNjb2RlLXJlbW90ZQ%3D%3D?line=5'>6</a>\u001b[0m     \u001b[39mprint\u001b[39m(i)\n",
      "\u001b[1;32m/work/dpandya/giggityGit/AudioData-Augmentation/silero_preds.ipynb Cell 6\u001b[0m line \u001b[0;36m1\n\u001b[1;32m     <a href='vscode-notebook-cell://ssh-remote%2Bdws-06.informatik.uni-mannheim.de/work/dpandya/giggityGit/AudioData-Augmentation/silero_preds.ipynb#W5sdnNjb2RlLXJlbW90ZQ%3D%3D?line=10'>11</a>\u001b[0m \u001b[39mdef\u001b[39;00m \u001b[39msileromodel\u001b[39m(file):\n\u001b[0;32m---> <a href='vscode-notebook-cell://ssh-remote%2Bdws-06.informatik.uni-mannheim.de/work/dpandya/giggityGit/AudioData-Augmentation/silero_preds.ipynb#W5sdnNjb2RlLXJlbW90ZQ%3D%3D?line=12'>13</a>\u001b[0m     test_files \u001b[39m=\u001b[39m glob(file)\n\u001b[1;32m     <a href='vscode-notebook-cell://ssh-remote%2Bdws-06.informatik.uni-mannheim.de/work/dpandya/giggityGit/AudioData-Augmentation/silero_preds.ipynb#W5sdnNjb2RlLXJlbW90ZQ%3D%3D?line=13'>14</a>\u001b[0m     batches \u001b[39m=\u001b[39m split_into_batches(test_files, batch_size\u001b[39m=\u001b[39m\u001b[39m10\u001b[39m)\n\u001b[1;32m     <a href='vscode-notebook-cell://ssh-remote%2Bdws-06.informatik.uni-mannheim.de/work/dpandya/giggityGit/AudioData-Augmentation/silero_preds.ipynb#W5sdnNjb2RlLXJlbW90ZQ%3D%3D?line=14'>15</a>\u001b[0m     \u001b[39minput\u001b[39m \u001b[39m=\u001b[39m prepare_model_input(read_batch(batches[\u001b[39m0\u001b[39m]),\n\u001b[1;32m     <a href='vscode-notebook-cell://ssh-remote%2Bdws-06.informatik.uni-mannheim.de/work/dpandya/giggityGit/AudioData-Augmentation/silero_preds.ipynb#W5sdnNjb2RlLXJlbW90ZQ%3D%3D?line=15'>16</a>\u001b[0m                             device\u001b[39m=\u001b[39mdevice)\n",
      "File \u001b[0;32m/work/dpandya/miniconda3/envs/irsolve/lib/python3.10/glob.py:24\u001b[0m, in \u001b[0;36mglob\u001b[0;34m(pathname, root_dir, dir_fd, recursive)\u001b[0m\n\u001b[1;32m     13\u001b[0m \u001b[39mdef\u001b[39;00m \u001b[39mglob\u001b[39m(pathname, \u001b[39m*\u001b[39m, root_dir\u001b[39m=\u001b[39m\u001b[39mNone\u001b[39;00m, dir_fd\u001b[39m=\u001b[39m\u001b[39mNone\u001b[39;00m, recursive\u001b[39m=\u001b[39m\u001b[39mFalse\u001b[39;00m):\n\u001b[1;32m     14\u001b[0m \u001b[39m    \u001b[39m\u001b[39m\"\"\"Return a list of paths matching a pathname pattern.\u001b[39;00m\n\u001b[1;32m     15\u001b[0m \n\u001b[1;32m     16\u001b[0m \u001b[39m    The pattern may contain simple shell-style wildcards a la\u001b[39;00m\n\u001b[0;32m   (...)\u001b[0m\n\u001b[1;32m     22\u001b[0m \u001b[39m    zero or more directories and subdirectories.\u001b[39;00m\n\u001b[1;32m     23\u001b[0m \u001b[39m    \"\"\"\u001b[39;00m\n\u001b[0;32m---> 24\u001b[0m     \u001b[39mreturn\u001b[39;00m \u001b[39mlist\u001b[39m(iglob(pathname, root_dir\u001b[39m=\u001b[39;49mroot_dir, dir_fd\u001b[39m=\u001b[39;49mdir_fd, recursive\u001b[39m=\u001b[39;49mrecursive))\n",
      "File \u001b[0;32m/work/dpandya/miniconda3/envs/irsolve/lib/python3.10/glob.py:44\u001b[0m, in \u001b[0;36miglob\u001b[0;34m(pathname, root_dir, dir_fd, recursive)\u001b[0m\n\u001b[1;32m     42\u001b[0m     root_dir \u001b[39m=\u001b[39m pathname[:\u001b[39m0\u001b[39m]\n\u001b[1;32m     43\u001b[0m it \u001b[39m=\u001b[39m _iglob(pathname, root_dir, dir_fd, recursive, \u001b[39mFalse\u001b[39;00m)\n\u001b[0;32m---> 44\u001b[0m \u001b[39mif\u001b[39;00m \u001b[39mnot\u001b[39;00m pathname \u001b[39mor\u001b[39;00m recursive \u001b[39mand\u001b[39;00m _isrecursive(pathname[:\u001b[39m2\u001b[39m]):\n\u001b[1;32m     45\u001b[0m     \u001b[39mtry\u001b[39;00m:\n\u001b[1;32m     46\u001b[0m         s \u001b[39m=\u001b[39m \u001b[39mnext\u001b[39m(it)  \u001b[39m# skip empty string\u001b[39;00m\n",
      "\u001b[0;31mValueError\u001b[0m: The truth value of an array with more than one element is ambiguous. Use a.any() or a.all()"
     ]
    }
   ],
   "source": [
    "silero_preds = []\n",
    "\n",
    "for i in range(0, len(aud_list)):\n",
    "    noisy_audio = get_noisy_audio(aud_dir, aud_list[i])\n",
    "    preds = silero\n",
    "    silero_preds.append(sileromodel(noisy_audio))\n",
    "    print(i)"
   ]
  }
 ],
 "metadata": {
  "kernelspec": {
   "display_name": "irsolve",
   "language": "python",
   "name": "python3"
  },
  "language_info": {
   "codemirror_mode": {
    "name": "ipython",
    "version": 3
   },
   "file_extension": ".py",
   "mimetype": "text/x-python",
   "name": "python",
   "nbconvert_exporter": "python",
   "pygments_lexer": "ipython3",
   "version": "3.10.0"
  }
 },
 "nbformat": 4,
 "nbformat_minor": 2
}
